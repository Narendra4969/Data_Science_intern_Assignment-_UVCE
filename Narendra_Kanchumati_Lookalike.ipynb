{
  "nbformat": 4,
  "nbformat_minor": 0,
  "metadata": {
    "colab": {
      "provenance": []
    },
    "kernelspec": {
      "name": "python3",
      "display_name": "Python 3"
    },
    "language_info": {
      "name": "python"
    }
  },
  "cells": [
    {
      "cell_type": "code",
      "execution_count": 1,
      "metadata": {
        "id": "b8z9xO7cWCGj"
      },
      "outputs": [],
      "source": [
        "import pandas as pd\n",
        "import numpy as np\n",
        "from sklearn.metrics.pairwise import cosine_similarity"
      ]
    },
    {
      "cell_type": "code",
      "source": [
        "customers = pd.read_csv('/content/drive/MyDrive/Colab Notebooks/Customers.csv')\n",
        "products = pd.read_csv('/content/drive/MyDrive/Colab Notebooks/Products.csv')\n",
        "transactions = pd.read_csv('/content/drive/MyDrive/Colab Notebooks/Transactions.csv')\n",
        "print(customers)"
      ],
      "metadata": {
        "colab": {
          "base_uri": "https://localhost:8080/"
        },
        "id": "vomqNe0fWIUl",
        "outputId": "07417bdf-488a-40f0-aee8-1a04ad4e99be"
      },
      "execution_count": 9,
      "outputs": [
        {
          "output_type": "stream",
          "name": "stdout",
          "text": [
            "    CustomerID        CustomerName         Region  SignupDate\n",
            "0        C0001    Lawrence Carroll  South America  2022-07-10\n",
            "1        C0002      Elizabeth Lutz           Asia  2022-02-13\n",
            "2        C0003      Michael Rivera  South America  2024-03-07\n",
            "3        C0004  Kathleen Rodriguez  South America  2022-10-09\n",
            "4        C0005         Laura Weber           Asia  2022-08-15\n",
            "..         ...                 ...            ...         ...\n",
            "195      C0196         Laura Watts         Europe  2022-06-07\n",
            "196      C0197    Christina Harvey         Europe  2023-03-21\n",
            "197      C0198         Rebecca Ray         Europe  2022-02-27\n",
            "198      C0199      Andrea Jenkins         Europe  2022-12-03\n",
            "199      C0200         Kelly Cross           Asia  2023-06-11\n",
            "\n",
            "[200 rows x 4 columns]\n"
          ]
        }
      ]
    },
    {
      "cell_type": "code",
      "source": [
        "# Merge DataFrames\n",
        "merged_df = pd.merge(transactions, customers, on='CustomerID')\n",
        "merged_df = pd.merge(merged_df, products, on='ProductID')"
      ],
      "metadata": {
        "id": "MgyrpIq1Wjt2"
      },
      "execution_count": 11,
      "outputs": []
    },
    {
      "cell_type": "code",
      "source": [
        "# Feature Engineering - Create Customer Profiles based on Transaction Data\n",
        "customer_profiles = merged_df.groupby(['CustomerID', 'ProductID']).agg({\n",
        "    'Quantity': 'sum', 'TotalValue': 'sum'\n",
        "}).reset_index()\n",
        "print(customer_profiles)"
      ],
      "metadata": {
        "colab": {
          "base_uri": "https://localhost:8080/"
        },
        "id": "iXlDIE4TWsC0",
        "outputId": "86952cad-37c0-4fc3-b6ad-6115c320f3b9"
      },
      "execution_count": 10,
      "outputs": [
        {
          "output_type": "stream",
          "name": "stdout",
          "text": [
            "    CustomerID ProductID  Quantity  TotalValue\n",
            "0        C0001      P022         3      412.62\n",
            "1        C0001      P029         3     1300.92\n",
            "2        C0001      P054         2      114.60\n",
            "3        C0001      P083         2      911.44\n",
            "4        C0001      P096         2      614.94\n",
            "..         ...       ...       ...         ...\n",
            "969      C0200      P034         4      868.20\n",
            "970      C0200      P048         4     1665.60\n",
            "971      C0200      P057         1      239.70\n",
            "972      C0200      P061         4      627.84\n",
            "973      C0200      P064         3     1357.26\n",
            "\n",
            "[974 rows x 4 columns]\n"
          ]
        }
      ]
    },
    {
      "cell_type": "code",
      "source": [
        "# Pivot to Create Customer-Product Matrix\n",
        "customer_product_matrix = customer_profiles.pivot(index='CustomerID', columns='ProductID', values='TotalValue').fillna(0)"
      ],
      "metadata": {
        "id": "Hp8knjP9XHVV"
      },
      "execution_count": 12,
      "outputs": []
    },
    {
      "cell_type": "code",
      "source": [
        "# Compute Cosine Similarity\n",
        "similarity_matrix = cosine_similarity(customer_product_matrix)\n",
        "similarity_df = pd.DataFrame(similarity_matrix, index=customer_product_matrix.index, columns=customer_product_matrix.index)\n",
        "print(similarity_df)"
      ],
      "metadata": {
        "colab": {
          "base_uri": "https://localhost:8080/"
        },
        "id": "wQp-KJY1XM3M",
        "outputId": "f2b280bb-9e4b-4bac-ac2c-f8e32bb1b6b4"
      },
      "execution_count": 14,
      "outputs": [
        {
          "output_type": "stream",
          "name": "stdout",
          "text": [
            "CustomerID     C0001  C0002     C0003     C0004     C0005     C0006     C0007  \\\n",
            "CustomerID                                                                      \n",
            "C0001       1.000000    0.0  0.000000  0.000000  0.000000  0.000000  0.203038   \n",
            "C0002       0.000000    1.0  0.000000  0.000000  0.000000  0.000000  0.000000   \n",
            "C0003       0.000000    0.0  1.000000  0.139782  0.347737  0.000000  0.000000   \n",
            "C0004       0.000000    0.0  0.139782  1.000000  0.186362  0.000000  0.000000   \n",
            "C0005       0.000000    0.0  0.347737  0.186362  1.000000  0.000000  0.000000   \n",
            "...              ...    ...       ...       ...       ...       ...       ...   \n",
            "C0196       0.000000    0.0  0.000000  0.000000  0.000000  0.369701  0.000000   \n",
            "C0197       0.000000    0.0  0.000000  0.000000  0.000000  0.368321  0.000000   \n",
            "C0198       0.000000    0.0  0.000000  0.000000  0.000000  0.000000  0.000000   \n",
            "C0199       0.119181    0.0  0.000000  0.038244  0.000000  0.000000  0.000000   \n",
            "C0200       0.000000    0.0  0.000000  0.000000  0.000000  0.000000  0.000000   \n",
            "\n",
            "CustomerID     C0008  C0009     C0010  ...    C0191     C0192  C0193  \\\n",
            "CustomerID                             ...                             \n",
            "C0001       0.000000    0.0  0.000000  ...  0.13837  0.000000    0.0   \n",
            "C0002       0.095163    0.0  0.000000  ...  0.00000  0.000000    0.0   \n",
            "C0003       0.004856    0.0  0.000000  ...  0.00000  0.000000    0.0   \n",
            "C0004       0.016953    0.0  0.071485  ...  0.00000  0.000000    0.0   \n",
            "C0005       0.000000    0.0  0.000000  ...  0.00000  0.641821    0.0   \n",
            "...              ...    ...       ...  ...      ...       ...    ...   \n",
            "C0196       0.000000    0.0  0.000000  ...  0.00000  0.000000    0.0   \n",
            "C0197       0.000000    0.0  0.000000  ...  0.00000  0.000000    0.0   \n",
            "C0198       0.000000    0.0  0.000000  ...  0.00000  0.000000    0.0   \n",
            "C0199       0.045205    0.0  0.000000  ...  0.00000  0.000000    0.0   \n",
            "C0200       0.000000    0.0  0.000000  ...  0.00000  0.000000    0.0   \n",
            "\n",
            "CustomerID     C0194    C0195     C0196  C0197     C0198     C0199     C0200  \n",
            "CustomerID                                                                    \n",
            "C0001       0.410078  0.00000  0.000000    0.0  0.000000  0.119181  0.000000  \n",
            "C0002       0.000000  0.00000  0.000000    0.0  0.000000  0.000000  0.000000  \n",
            "C0003       0.000000  0.00000  0.000000    0.0  0.000000  0.000000  0.000000  \n",
            "C0004       0.073930  0.00000  0.000000    0.0  0.000000  0.038244  0.000000  \n",
            "C0005       0.020658  0.00000  0.000000    0.0  0.000000  0.000000  0.000000  \n",
            "...              ...      ...       ...    ...       ...       ...       ...  \n",
            "C0196       0.000000  0.00000  1.000000    0.0  0.000000  0.548169  0.000000  \n",
            "C0197       0.000000  0.31695  0.000000    1.0  0.000000  0.000000  0.000000  \n",
            "C0198       0.000000  0.00000  0.000000    0.0  1.000000  0.000000  0.562266  \n",
            "C0199       0.106442  0.13914  0.548169    0.0  0.000000  1.000000  0.000000  \n",
            "C0200       0.000000  0.00000  0.000000    0.0  0.562266  0.000000  1.000000  \n",
            "\n",
            "[199 rows x 199 columns]\n"
          ]
        }
      ]
    },
    {
      "cell_type": "code",
      "source": [
        "# Function to get top N similar customers\n",
        "def get_top_n_similar_customers(customer_id, n=3):\n",
        "    similar_customers = similarity_df[customer_id].sort_values(ascending=False).drop(customer_id).head(n)\n",
        "    return list(similar_customers.index), list(similar_customers.values)"
      ],
      "metadata": {
        "id": "DEs73jIfXWbK"
      },
      "execution_count": 15,
      "outputs": []
    },
    {
      "cell_type": "code",
      "source": [
        "# Generate Lookalike Recommendations for the first 20 customers\n",
        "lookalike_recommendations = {}\n",
        "for customer_id in customers['CustomerID'][:20]:\n",
        "    similar_customers, similarity_scores = get_top_n_similar_customers(customer_id)\n",
        "    lookalike_recommendations[customer_id] = list(zip(similar_customers, similarity_scores))"
      ],
      "metadata": {
        "id": "h12djIsQXcxb"
      },
      "execution_count": 16,
      "outputs": []
    },
    {
      "cell_type": "code",
      "source": [
        "# Create Lookalike.csv\n",
        "lookalike_df = pd.DataFrame({\n",
        "    'CustomerID': list(lookalike_recommendations.keys()),\n",
        "    'Lookalikes': [x for x in lookalike_recommendations.values()]\n",
        "})\n",
        "lookalike_df.to_csv('Lookalike.csv', index=False)\n",
        "\n",
        "print(\"Lookalike Recommendations for the first 20 customers saved to 'Lookalike.csv'\")\n"
      ],
      "metadata": {
        "colab": {
          "base_uri": "https://localhost:8080/"
        },
        "id": "GaMLTJUJXh1o",
        "outputId": "0c61e401-cf57-4de4-e9f4-d603fe3d8173"
      },
      "execution_count": 18,
      "outputs": [
        {
          "output_type": "stream",
          "name": "stdout",
          "text": [
            "Lookalike Recommendations for the first 20 customers saved to 'Lookalike.csv'\n"
          ]
        }
      ]
    },
    {
      "cell_type": "code",
      "source": [
        "# Display Lookalike Recommendations\n",
        "print(lookalike_df.head(20))"
      ],
      "metadata": {
        "colab": {
          "base_uri": "https://localhost:8080/"
        },
        "id": "oqXjXll_XmMi",
        "outputId": "e5c8ac11-bfbd-42c3-8037-1bc10ce6d3c9"
      },
      "execution_count": 19,
      "outputs": [
        {
          "output_type": "stream",
          "name": "stdout",
          "text": [
            "   CustomerID                                         Lookalikes\n",
            "0       C0001  [(C0050, 0.5326650751975152), (C0100, 0.528643...\n",
            "1       C0002  [(C0109, 0.5363798777066622), (C0079, 0.528552...\n",
            "2       C0003  [(C0181, 0.6200214220870752), (C0186, 0.556468...\n",
            "3       C0004  [(C0063, 0.45920773392365694), (C0070, 0.44279...\n",
            "4       C0005  [(C0096, 0.6683801091411397), (C0192, 0.641821...\n",
            "5       C0006  [(C0058, 0.6833174088001752), (C0040, 0.662619...\n",
            "6       C0007  [(C0020, 0.5798921734396695), (C0031, 0.442596...\n",
            "7       C0008  [(C0165, 0.47995825082574334), (C0169, 0.42354...\n",
            "8       C0009  [(C0140, 0.7865578016626213), (C0156, 0.720016...\n",
            "9       C0010  [(C0029, 0.8903528709045399), (C0092, 0.865016...\n",
            "10      C0011  [(C0135, 0.6044043836963852), (C0173, 0.422773...\n",
            "11      C0012  [(C0164, 0.6931189300367439), (C0173, 0.626648...\n",
            "12      C0013  [(C0058, 0.5569830949313298), (C0040, 0.540111...\n",
            "13      C0014  [(C0128, 0.5740534126137472), (C0159, 0.441217...\n",
            "14      C0015  [(C0073, 0.5473952661786068), (C0036, 0.470114...\n",
            "15      C0016  [(C0052, 0.6706227231772772), (C0064, 0.666752...\n",
            "16      C0017  [(C0146, 0.49419227564570306), (C0147, 0.38000...\n",
            "17      C0018  [(C0059, 0.37252427170007346), (C0115, 0.35694...\n",
            "18      C0019  [(C0064, 0.639336891964859), (C0049, 0.5664016...\n",
            "19      C0020  [(C0026, 0.6544854567469434), (C0007, 0.579892...\n"
          ]
        }
      ]
    }
  ]
}